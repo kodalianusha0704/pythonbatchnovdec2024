{
 "cells": [
  {
   "cell_type": "markdown",
   "metadata": {},
   "source": [
    "### data type conversions\n",
    "\n",
    "int, float, complex, boolean, string, None\n",
    "\n",
    "integer family:\n",
    "   int(), hex(), bin(), oct()\n",
    "\n",
    "float(), str()"
   ]
  },
  {
   "cell_type": "code",
   "execution_count": 1,
   "metadata": {},
   "outputs": [
    {
     "data": {
      "text/plain": [
       "'0b1010'"
      ]
     },
     "execution_count": 1,
     "metadata": {},
     "output_type": "execute_result"
    }
   ],
   "source": [
    "# anything can be converted to string, but not viceversa\n",
    "\n",
    "# decimal to binary\n",
    "bin(10)"
   ]
  },
  {
   "cell_type": "code",
   "execution_count": 7,
   "metadata": {},
   "outputs": [
    {
     "name": "stdout",
     "output_type": "stream",
     "text": [
      "0b1010 10\n",
      "1001  1001\n"
     ]
    }
   ],
   "source": [
    "# binary to decimal\n",
    "int(\"01010\",2)\n",
    "print(\"0b1010\", int(\"0b1010\",base=0))\n",
    "print(\"1001 \", int(\"1001\",base=0))"
   ]
  },
  {
   "cell_type": "code",
   "execution_count": 8,
   "metadata": {},
   "outputs": [
    {
     "name": "stdout",
     "output_type": "stream",
     "text": [
      "4\n",
      "5\n"
     ]
    }
   ],
   "source": [
    "print((9).bit_length())\n",
    "print((23).bit_length())"
   ]
  },
  {
   "cell_type": "code",
   "execution_count": 9,
   "metadata": {},
   "outputs": [
    {
     "name": "stdout",
     "output_type": "stream",
     "text": [
      "oct(9)  0o11\n",
      "oct(-23)  -0o27\n"
     ]
    }
   ],
   "source": [
    "# decimal to octal\n",
    "print(\"oct(9) \", oct(9))\n",
    "print(\"oct(-23) \", oct(-23))"
   ]
  },
  {
   "cell_type": "code",
   "execution_count": 10,
   "metadata": {},
   "outputs": [
    {
     "name": "stdout",
     "output_type": "stream",
     "text": [
      "9\n",
      "9\n",
      "9\n"
     ]
    }
   ],
   "source": [
    "#octal to decimal\n",
    "print(int(oct(9),base=8))\n",
    "print(int(\"0o11\",base=8))\n",
    "print(int(\"11\",base=8))"
   ]
  },
  {
   "cell_type": "code",
   "execution_count": 11,
   "metadata": {},
   "outputs": [
    {
     "name": "stdout",
     "output_type": "stream",
     "text": [
      "hex(9) 0x9\n",
      "hex(-23) -0x17\n"
     ]
    }
   ],
   "source": [
    "#hexadecimal (0-9, A-F)\n",
    "\n",
    "print(\"hex(9)\",hex(9))\n",
    "print(\"hex(-23)\", hex(-23))"
   ]
  },
  {
   "cell_type": "code",
   "execution_count": 12,
   "metadata": {},
   "outputs": [
    {
     "name": "stdout",
     "output_type": "stream",
     "text": [
      "-23\n",
      "-23\n",
      "-23\n"
     ]
    }
   ],
   "source": [
    "#hexadecimal to decimal\n",
    "print(int(hex(-23),base=16))\n",
    "print(int(\"-0x17\",base=16))\n",
    "print(int(\"-17\",base=16))"
   ]
  },
  {
   "cell_type": "code",
   "execution_count": 16,
   "metadata": {},
   "outputs": [
    {
     "name": "stdout",
     "output_type": "stream",
     "text": [
      "octal_number is: 0o37\n",
      "hex number is: 0x1f\n"
     ]
    }
   ],
   "source": [
    "# convert hexadecimal to octal and viceversa\n",
    "\n",
    "decimal_number = int(\"1F\", 16) \n",
    "octal_number = oct(decimal_number) \n",
    "print(\"octal_number is:\", octal_number)\n",
    "\n",
    "decimal_number1 = int(octal_number, 8)  # Convert octal to decimal\n",
    "hex_number = hex(decimal_number1)\n",
    "print(\"hex number is:\", hex_number)"
   ]
  },
  {
   "cell_type": "code",
   "execution_count": 19,
   "metadata": {},
   "outputs": [
    {
     "name": "stdout",
     "output_type": "stream",
     "text": [
      "False\n"
     ]
    }
   ],
   "source": [
    "print((-2.1).is_integer())"
   ]
  },
  {
   "cell_type": "code",
   "execution_count": null,
   "metadata": {},
   "outputs": [],
   "source": []
  }
 ],
 "metadata": {
  "kernelspec": {
   "display_name": "Python 3",
   "language": "python",
   "name": "python3"
  },
  "language_info": {
   "codemirror_mode": {
    "name": "ipython",
    "version": 3
   },
   "file_extension": ".py",
   "mimetype": "text/x-python",
   "name": "python",
   "nbconvert_exporter": "python",
   "pygments_lexer": "ipython3",
   "version": "3.12.1"
  }
 },
 "nbformat": 4,
 "nbformat_minor": 2
}
