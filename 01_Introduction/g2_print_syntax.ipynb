{
 "cells": [
  {
   "cell_type": "markdown",
   "metadata": {},
   "source": [
    "### print function"
   ]
  },
  {
   "cell_type": "code",
   "execution_count": 2,
   "metadata": {},
   "outputs": [
    {
     "name": "stdout",
     "output_type": "stream",
     "text": [
      "hello python 123\thello;python;123\n"
     ]
    }
   ],
   "source": [
    "print(\"hello\", \"python\", 123, end='\\t')\n",
    "print(\"hello\", \"python\", 123, end='\\n',sep=';')"
   ]
  },
  {
   "cell_type": "code",
   "execution_count": 3,
   "metadata": {},
   "outputs": [
    {
     "name": "stdout",
     "output_type": "stream",
     "text": [
      "145\n"
     ]
    }
   ],
   "source": [
    "# \\b - overwrites previous character\n",
    "print(\"12\\b45\")"
   ]
  },
  {
   "cell_type": "code",
   "execution_count": 8,
   "metadata": {},
   "outputs": [
    {
     "name": "stdout",
     "output_type": "stream",
     "text": [
      "hi\n",
      "anusha\n",
      "hel4\n",
      "hellorams\n"
     ]
    }
   ],
   "source": [
    "# r - overwrites complete existing line\n",
    "\n",
    "print(\"He\\rhi\")\n",
    "print(\"abcd\\ranusha\")\n",
    "print(\"!234\\rhel\")\n",
    "print(\"kilograms\\rhello\")"
   ]
  },
  {
   "cell_type": "code",
   "execution_count": 9,
   "metadata": {},
   "outputs": [
    {
     "name": "stdout",
     "output_type": "stream",
     "text": [
      "₹\n",
      "Ǝ\n",
      "&\n"
     ]
    }
   ],
   "source": [
    "# unicode characters\n",
    "\n",
    "print(\"\\u20B9\")\n",
    "print(\"\\u018e\")\n",
    "print(\"\\046\")"
   ]
  },
  {
   "cell_type": "code",
   "execution_count": 10,
   "metadata": {},
   "outputs": [
    {
     "name": "stdout",
     "output_type": "stream",
     "text": [
      "$\n"
     ]
    }
   ],
   "source": [
    "# \\x - hexadecimal numbers\n",
    "\n",
    "print(\"\\x24\")"
   ]
  },
  {
   "cell_type": "code",
   "execution_count": null,
   "metadata": {},
   "outputs": [],
   "source": []
  }
 ],
 "metadata": {
  "kernelspec": {
   "display_name": "Python 3",
   "language": "python",
   "name": "python3"
  },
  "language_info": {
   "codemirror_mode": {
    "name": "ipython",
    "version": 3
   },
   "file_extension": ".py",
   "mimetype": "text/x-python",
   "name": "python",
   "nbconvert_exporter": "python",
   "pygments_lexer": "ipython3",
   "version": "3.12.1"
  }
 },
 "nbformat": 4,
 "nbformat_minor": 2
}
